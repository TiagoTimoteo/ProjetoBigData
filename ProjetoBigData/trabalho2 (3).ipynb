{
 "cells": [
  {
   "attachments": {},
   "cell_type": "markdown",
   "metadata": {},
   "source": [
    "![Logo do Markdown](logo-ESTB.png)\n",
    "\n",
    "## Projeto de Big Data\n",
    "### Realizado por: João Lobato Nº202000071  e Tiago Timóteo Nº202000029\n"
   ]
  },
  {
   "attachments": {},
   "cell_type": "markdown",
   "metadata": {},
   "source": [
    "# Índice\n",
    "- Introdução\n",
    "- Importing the needed libraries\n",
    "- Creating a Pyspark session \n",
    "- Loading the Dataset\n",
    "- Data Cleaning and Exploraty Analysis\n",
    "- Data Pre-processing\n",
    "- Machine Learning model implementacion \n",
    "- Conclusão\n",
    "- Bibliografia\n"
   ]
  },
  {
   "attachments": {},
   "cell_type": "markdown",
   "metadata": {},
   "source": [
    "# Introdução\n"
   ]
  },
  {
   "attachments": {},
   "cell_type": "markdown",
   "metadata": {},
   "source": [
    "#### No segundo projeto da unidade curricular de Big Data foi-nos proposta a escolha de um dataset para usarmos as funcionalidades do PySpark e algoritmos de  machine learning. Escolhemos um dataset que contêm os registos de saúde de 110204 internações de pacientes com sepsis. O dataset contêm quatro variáveis sendo elas a idade, o género (0=masculino/1=feminino), o numero do episodio da doença de sepsis e o resultado do hospital (0=paciente faleceu/1=paciente sobreviveu). Iremos usar dois algoritmos de aprendizagem supervisionada, regressão linear e arvore de decisão para, usando as features prever se o paciente falece ou não no hospital. Por fim iremos comparar os resultados dos dois modelos."
   ]
  },
  {
   "attachments": {},
   "cell_type": "markdown",
   "metadata": {},
   "source": [
    "# Importing the needed libraries"
   ]
  },
  {
   "cell_type": "code",
   "execution_count": 4,
   "metadata": {},
   "outputs": [],
   "source": [
    "from pyspark.sql import SparkSession\n",
    "from pyspark.context import SparkContext\n",
    "import findspark\n",
    "from pyspark.sql.functions import *\n",
    "from pyspark.sql.types import *\n",
    "from pyspark.sql.types import IntegerType, BooleanType\n",
    "from pyspark.ml.feature import StandardScaler, VectorAssembler\n",
    "from pyspark.ml.classification import LogisticRegression, DecisionTreeClassifier\n",
    "import matplotlib.pyplot as plt\n",
    "import numpy as np\n",
    "from pyspark.ml.evaluation import MulticlassClassificationEvaluator"
   ]
  },
  {
   "attachments": {},
   "cell_type": "markdown",
   "metadata": {},
   "source": [
    "# 2. Creating a Spark session"
   ]
  },
  {
   "attachments": {},
   "cell_type": "markdown",
   "metadata": {},
   "source": [
    "#### Inicializamos uma Sparksession e atribuimos o nome \"ML-Project\" a nossa aplicação."
   ]
  },
  {
   "cell_type": "code",
   "execution_count": 5,
   "metadata": {},
   "outputs": [],
   "source": [
    "#Add and set pyspark\n",
    "findspark.init()\n",
    "\n",
    "#Create an object of spark session\n",
    "spark = SparkSession.builder.appName(\"Ml-Project\").getOrCreate()"
   ]
  },
  {
   "attachments": {},
   "cell_type": "markdown",
   "metadata": {},
   "source": [
    "# 3. Loading the dataset"
   ]
  },
  {
   "attachments": {},
   "cell_type": "markdown",
   "metadata": {},
   "source": [
    "#### Obtemos o dataset do site: https://archive.ics.uci.edu/ml/datasets/Sepsis+survival+minimal+clinical+records"
   ]
  },
  {
   "cell_type": "code",
   "execution_count": 6,
   "metadata": {},
   "outputs": [
    {
     "name": "stdout",
     "output_type": "stream",
     "text": [
      "+---------+-----------------+--------------+-----------------------------+\n",
      "|age_years|sex_0male_1female|episode_number|hospital_outcome_1alive_0dead|\n",
      "+---------+-----------------+--------------+-----------------------------+\n",
      "|21       |1                |1             |1                            |\n",
      "|20       |1                |1             |1                            |\n",
      "|21       |1                |1             |1                            |\n",
      "|77       |0                |1             |1                            |\n",
      "|72       |0                |1             |1                            |\n",
      "+---------+-----------------+--------------+-----------------------------+\n",
      "only showing top 5 rows\n",
      "\n"
     ]
    }
   ],
   "source": [
    "#Read the csv file\n",
    "df = spark.read.csv('s41598-020-73558-3_sepsis_survival_primary_cohort.csv', header=True, sep=\",\")\n",
    "\n",
    "#Show the first 5 lines of the dataset\n",
    "df.show(5,0)"
   ]
  },
  {
   "attachments": {},
   "cell_type": "markdown",
   "metadata": {},
   "source": [
    "# 4. Data Cleaning and Exploraty Analysis"
   ]
  },
  {
   "attachments": {},
   "cell_type": "markdown",
   "metadata": {},
   "source": [
    "#### Primeiramente fomos analizar a dimensão do dataset."
   ]
  },
  {
   "cell_type": "code",
   "execution_count": 7,
   "metadata": {},
   "outputs": [
    {
     "data": {
      "text/plain": [
       "(110204, 4)"
      ]
     },
     "execution_count": 7,
     "metadata": {},
     "output_type": "execute_result"
    }
   ],
   "source": [
    "#Check the dimensions of the dataset\n",
    "df.count(), len(df.columns)"
   ]
  },
  {
   "attachments": {},
   "cell_type": "markdown",
   "metadata": {},
   "source": [
    "#### Depois fomos observar quais eram as caracteristicas das variáveis."
   ]
  },
  {
   "cell_type": "code",
   "execution_count": 8,
   "metadata": {},
   "outputs": [
    {
     "data": {
      "text/plain": [
       "[('age_years', 'string'),\n",
       " ('sex_0male_1female', 'string'),\n",
       " ('episode_number', 'string'),\n",
       " ('hospital_outcome_1alive_0dead', 'string')]"
      ]
     },
     "execution_count": 8,
     "metadata": {},
     "output_type": "execute_result"
    }
   ],
   "source": [
    "#Check the datatypes of the variables\n",
    "df.dtypes"
   ]
  },
  {
   "attachments": {},
   "cell_type": "markdown",
   "metadata": {},
   "source": [
    "#### Como as variáveis escontravam-se todas em tipo String foi necessario mudar as variáveis para as respetivas caracteristicas."
   ]
  },
  {
   "cell_type": "code",
   "execution_count": 9,
   "metadata": {},
   "outputs": [],
   "source": [
    "#Changing the datatype of the variables \n",
    "df = df \\\n",
    "    .withColumn(\"age_years\", df[\"age_years\"].cast(IntegerType())) \\\n",
    "    .withColumn(\"sex_0male_1female\", df[\"sex_0male_1female\"].cast(BooleanType())) \\\n",
    "    .withColumn(\"episode_number\", df[\"episode_number\"].cast(IntegerType())) \\\n",
    "    .withColumn(\"hospital_outcome_1alive_0dead\", df[\"hospital_outcome_1alive_0dead\"].cast(IntegerType()))"
   ]
  },
  {
   "attachments": {},
   "cell_type": "markdown",
   "metadata": {},
   "source": [
    "#### Voltando a analizar verificamos que todas as variáveis se encontram na caracteristica adequada."
   ]
  },
  {
   "cell_type": "code",
   "execution_count": 10,
   "metadata": {},
   "outputs": [
    {
     "data": {
      "text/plain": [
       "[('age_years', 'int'),\n",
       " ('sex_0male_1female', 'boolean'),\n",
       " ('episode_number', 'int'),\n",
       " ('hospital_outcome_1alive_0dead', 'int')]"
      ]
     },
     "execution_count": 10,
     "metadata": {},
     "output_type": "execute_result"
    }
   ],
   "source": [
    "#Check the datatypes of the variables\n",
    "df.dtypes"
   ]
  },
  {
   "attachments": {},
   "cell_type": "markdown",
   "metadata": {},
   "source": [
    "#### Fizemos a sumarização de todas as variáveis apresentando:\n",
    "- Contagem de atributos que apresentam no dataset;\n",
    "- Média de cada variável;\n",
    "- Descio-padrão;\n",
    "- Valor minímo de cada variável;\n",
    "- Valor máximo de cada variável."
   ]
  },
  {
   "cell_type": "code",
   "execution_count": 11,
   "metadata": {},
   "outputs": [
    {
     "name": "stdout",
     "output_type": "stream",
     "text": [
      "+-------+------------------+------------------+-----------------------------+\n",
      "|summary|         age_years|    episode_number|hospital_outcome_1alive_0dead|\n",
      "+-------+------------------+------------------+-----------------------------+\n",
      "|  count|            110204|            110204|                       110204|\n",
      "|   mean|62.735254618707124|  1.34937933287358|           0.9264545751515372|\n",
      "| stddev|24.126805712867906|0.7517985207617897|          0.26103086716707735|\n",
      "|    min|                 0|                 1|                            0|\n",
      "|    max|               100|                 5|                            1|\n",
      "+-------+------------------+------------------+-----------------------------+\n",
      "\n"
     ]
    }
   ],
   "source": [
    "# Summarizing some information about the variables\n",
    "df.describe().show()"
   ]
  },
  {
   "attachments": {},
   "cell_type": "markdown",
   "metadata": {},
   "source": [
    "#### Criamos uma coluna para indicar a quais idades apresentam uma maior frequência de episodios de sepsis."
   ]
  },
  {
   "cell_type": "code",
   "execution_count": 12,
   "metadata": {},
   "outputs": [
    {
     "name": "stdout",
     "output_type": "stream",
     "text": [
      "+---------+---------+\n",
      "|age_years|frequency|\n",
      "+---------+---------+\n",
      "|       82|     2665|\n",
      "|       84|     2621|\n",
      "|       81|     2541|\n",
      "|       83|     2523|\n",
      "|       80|     2520|\n",
      "|       86|     2467|\n",
      "|       79|     2428|\n",
      "|       85|     2422|\n",
      "|       87|     2372|\n",
      "|       68|     2289|\n",
      "|       67|     2247|\n",
      "|       66|     2242|\n",
      "|       78|     2190|\n",
      "|       74|     2181|\n",
      "|       65|     2179|\n",
      "|       88|     2153|\n",
      "|       73|     2146|\n",
      "|       75|     2112|\n",
      "|       76|     2090|\n",
      "|       77|     2077|\n",
      "+---------+---------+\n",
      "only showing top 20 rows\n",
      "\n"
     ]
    }
   ],
   "source": [
    "#See what ages have the higher number of episodes\n",
    "df_freq = df.groupBy('age_years').agg(count('episode_number').alias('frequency'))\n",
    "df_freq.orderBy(desc('frequency')).show()"
   ]
  },
  {
   "attachments": {},
   "cell_type": "markdown",
   "metadata": {},
   "source": [
    "#### Por ultimo fomos conferir se existia valores nulos."
   ]
  },
  {
   "cell_type": "code",
   "execution_count": 13,
   "metadata": {},
   "outputs": [
    {
     "name": "stdout",
     "output_type": "stream",
     "text": [
      "+---------+-----------------+--------------+-----------------------------+\n",
      "|age_years|sex_0male_1female|episode_number|hospital_outcome_1alive_0dead|\n",
      "+---------+-----------------+--------------+-----------------------------+\n",
      "|        0|                0|             0|                            0|\n",
      "+---------+-----------------+--------------+-----------------------------+\n",
      "\n"
     ]
    }
   ],
   "source": [
    "#Checking for null data\n",
    "data_agg = df.agg(*[count(when(isnull(c), c)).alias(c) for c in df.columns])\n",
    "data_agg.show()"
   ]
  },
  {
   "attachments": {},
   "cell_type": "markdown",
   "metadata": {},
   "source": [
    "# 5. Data Pre-processing"
   ]
  },
  {
   "attachments": {},
   "cell_type": "markdown",
   "metadata": {},
   "source": [
    "#### Primeiramente criamos um vetor para todas as features."
   ]
  },
  {
   "cell_type": "code",
   "execution_count": 14,
   "metadata": {},
   "outputs": [
    {
     "data": {
      "text/plain": [
       "DataFrame[features: vector, hospital_outcome_1alive_0dead: int]"
      ]
     },
     "execution_count": 14,
     "metadata": {},
     "output_type": "execute_result"
    }
   ],
   "source": [
    "#Specification of the input and output columns of the vector assembler\n",
    "assembler = VectorAssembler(inputCols=['age_years', 'sex_0male_1female', 'episode_number'], outputCol='features')\n",
    "\n",
    "#Transforming the data\n",
    "assembler = assembler.transform(df)\n",
    "\n",
    "#View of the tranformed vector\n",
    "assembler.select('features', 'hospital_outcome_1alive_0dead')"
   ]
  },
  {
   "attachments": {},
   "cell_type": "markdown",
   "metadata": {},
   "source": [
    "#### Standardizamos os dados das features, para prevenir que as variáveis com grandes escalas dominassem o modelo."
   ]
  },
  {
   "cell_type": "code",
   "execution_count": 15,
   "metadata": {},
   "outputs": [
    {
     "name": "stdout",
     "output_type": "stream",
     "text": [
      "+---------------------------------------------------------+\n",
      "|standardize                                              |\n",
      "+---------------------------------------------------------+\n",
      "|[0.8704011732808795,2.002711214904269,1.3301436121298966]|\n",
      "|[0.8289534983627423,2.002711214904269,1.3301436121298966]|\n",
      "|[0.8704011732808795,2.002711214904269,1.3301436121298966]|\n",
      "|[3.1914709686965583,0.0,1.3301436121298966]              |\n",
      "|[2.9842325941058725,0.0,1.3301436121298966]              |\n",
      "+---------------------------------------------------------+\n",
      "only showing top 5 rows\n",
      "\n"
     ]
    }
   ],
   "source": [
    "#Standardization of the features\n",
    "scale = StandardScaler(inputCol='features', outputCol='standardize')\n",
    "\n",
    "#Fitting and tranformation of the vector\n",
    "data_scale=scale.fit(assembler)\n",
    "data_scale_output=data_scale.transform(assembler)\n",
    "\n",
    "#Show the first five lines of the standerdized data\n",
    "data_scale_output.select('standardize').show(5, 0)"
   ]
  },
  {
   "cell_type": "markdown",
   "metadata": {},
   "source": []
  },
  {
   "cell_type": "code",
   "execution_count": 16,
   "metadata": {},
   "outputs": [
    {
     "name": "stdout",
     "output_type": "stream",
     "text": [
      "root\n",
      " |-- features: vector (nullable = true)\n",
      " |-- label: integer (nullable = true)\n",
      "\n"
     ]
    }
   ],
   "source": [
    "\n",
    "model_df = data_scale_output.select(['features', 'hospital_outcome_1alive_0dead'])\n",
    "model_df = model_df.withColumnRenamed(\"hospital_outcome_1alive_0dead\", \"label\")\n",
    "model_df.printSchema()"
   ]
  },
  {
   "attachments": {},
   "cell_type": "markdown",
   "metadata": {},
   "source": [
    "# 6. Machine Learning model implementacion"
   ]
  },
  {
   "attachments": {},
   "cell_type": "markdown",
   "metadata": {},
   "source": [
    "#### Dividimos o dataset em dois, um para treino e outro para teste."
   ]
  },
  {
   "cell_type": "code",
   "execution_count": 17,
   "metadata": {},
   "outputs": [],
   "source": [
    "#Spliting randomly the dataset into training and testing dataframes \n",
    "train_df, test_df = model_df.randomSplit([0.7, 0.3])"
   ]
  },
  {
   "attachments": {},
   "cell_type": "markdown",
   "metadata": {},
   "source": [
    "#### Criamos o modelo de Regressão Linear."
   ]
  },
  {
   "cell_type": "code",
   "execution_count": 18,
   "metadata": {},
   "outputs": [],
   "source": [
    "#Creating the logistic regression model object\n",
    "log_reg = LogisticRegression(featuresCol = 'features', labelCol = 'label').fit(train_df)"
   ]
  },
  {
   "attachments": {},
   "cell_type": "markdown",
   "metadata": {},
   "source": [
    "#### Sumarização e análise da precisão do modelo de regressão linear."
   ]
  },
  {
   "cell_type": "code",
   "execution_count": 19,
   "metadata": {},
   "outputs": [],
   "source": [
    "#Creating a variable with the summarized data of the model\n",
    "lr_summary = log_reg.summary"
   ]
  },
  {
   "cell_type": "code",
   "execution_count": 20,
   "metadata": {},
   "outputs": [
    {
     "data": {
      "text/plain": [
       "0.9265477303417472"
      ]
     },
     "execution_count": 20,
     "metadata": {},
     "output_type": "execute_result"
    }
   ],
   "source": [
    "#Overall accuracy of the classification model\n",
    "lr_summary.accuracy"
   ]
  },
  {
   "cell_type": "markdown",
   "metadata": {},
   "source": []
  },
  {
   "cell_type": "code",
   "execution_count": 21,
   "metadata": {},
   "outputs": [
    {
     "data": {
      "image/png": "[encoded data removed]",
      "text/plain": [
       "<Figure size 640x480 with 1 Axes>"
      ]
     },
     "metadata": {},
     "output_type": "display_data"
    }
   ],
   "source": [
    "\n",
    "beta = np.sort(log_reg.coefficients)\n",
    "plt.plot(beta)\n",
    "plt.ylabel('Beta Coefficients')\n",
    "plt.show()"
   ]
  },
  {
   "attachments": {},
   "cell_type": "markdown",
   "metadata": {},
   "source": [
    "#### O resultado do gráfico indica-nos que a abilidade de saber se um paciente faleceu ou não, é aceitavel."
   ]
  },
  {
   "cell_type": "code",
   "execution_count": 22,
   "metadata": {},
   "outputs": [
    {
     "data": {
      "image/png": "[encoded data removed]",
      "text/plain": [
       "<Figure size 640x480 with 1 Axes>"
      ]
     },
     "metadata": {},
     "output_type": "display_data"
    },
    {
     "name": "stdout",
     "output_type": "stream",
     "text": [
      "Training set areaUnderROC: 0.7062828238366888\n"
     ]
    }
   ],
   "source": [
    "#Summarizing the model over the training dataset to obtain the areaUnderROC and the receiver-operating characteristic\n",
    "roc = lr_summary.roc.toPandas()\n",
    "plt.plot(roc['FPR'],roc['TPR'])\n",
    "plt.ylabel('False Positive Rate')\n",
    "plt.xlabel('True Positive Rate')\n",
    "plt.title('ROC Curve')\n",
    "plt.show()\n",
    "print('Training set areaUnderROC: ' + str(lr_summary.areaUnderROC))"
   ]
  },
  {
   "attachments": {},
   "cell_type": "markdown",
   "metadata": {},
   "source": [
    "#### A curva neste gráfico contêm TP/(TP+FN) no eixo do y e TP/(TP+FP) no eixo do x. O grafico ajuda a entender que o nosso modelo teve uma boa precisão. "
   ]
  },
  {
   "cell_type": "code",
   "execution_count": 23,
   "metadata": {},
   "outputs": [
    {
     "data": {
      "image/png": "[encoded data removed]",
      "text/plain": [
       "<Figure size 640x480 with 1 Axes>"
      ]
     },
     "metadata": {},
     "output_type": "display_data"
    }
   ],
   "source": [
    "pr = lr_summary.pr.toPandas()\n",
    "plt.plot(pr['recall'],pr['precision'])\n",
    "plt.ylabel('Precision')\n",
    "plt.xlabel('Recall')\n",
    "plt.show()"
   ]
  },
  {
   "attachments": {},
   "cell_type": "markdown",
   "metadata": {},
   "source": [
    "#### Fomos comparar os valores que reais e os valores que o modelo preveu."
   ]
  },
  {
   "cell_type": "code",
   "execution_count": 24,
   "metadata": {},
   "outputs": [
    {
     "name": "stdout",
     "output_type": "stream",
     "text": [
      "+-----+----------+\n",
      "|label|prediction|\n",
      "+-----+----------+\n",
      "|    0|       1.0|\n",
      "|    0|       1.0|\n",
      "|    0|       1.0|\n",
      "|    1|       1.0|\n",
      "|    1|       1.0|\n",
      "|    1|       1.0|\n",
      "|    1|       1.0|\n",
      "|    1|       1.0|\n",
      "|    1|       1.0|\n",
      "|    1|       1.0|\n",
      "|    1|       1.0|\n",
      "|    1|       1.0|\n",
      "|    1|       1.0|\n",
      "|    1|       1.0|\n",
      "|    1|       1.0|\n",
      "|    1|       1.0|\n",
      "|    1|       1.0|\n",
      "|    1|       1.0|\n",
      "|    1|       1.0|\n",
      "|    1|       1.0|\n",
      "+-----+----------+\n",
      "only showing top 20 rows\n",
      "\n"
     ]
    }
   ],
   "source": [
    "prediction = log_reg.transform(test_df)\n",
    "prediction.select('label', 'prediction').show(20)"
   ]
  },
  {
   "attachments": {},
   "cell_type": "markdown",
   "metadata": {},
   "source": [
    "#### Fomos criar outro modelo, uma arvore de decisão, usando os dados de treino e de teste já preparados para o outro modelo."
   ]
  },
  {
   "cell_type": "code",
   "execution_count": 25,
   "metadata": {},
   "outputs": [
    {
     "name": "stdout",
     "output_type": "stream",
     "text": [
      "+-------------+-----+----------------+----------------------------------------+----------+\n",
      "|features     |label|rawPrediction   |probability                             |prediction|\n",
      "+-------------+-----+----------------+----------------------------------------+----------+\n",
      "|[0.0,0.0,1.0]|0    |[5657.0,71359.0]|[0.07345226965825283,0.9265477303417472]|1.0       |\n",
      "|[0.0,0.0,1.0]|0    |[5657.0,71359.0]|[0.07345226965825283,0.9265477303417472]|1.0       |\n",
      "|[0.0,0.0,1.0]|0    |[5657.0,71359.0]|[0.07345226965825283,0.9265477303417472]|1.0       |\n",
      "|[0.0,0.0,1.0]|1    |[5657.0,71359.0]|[0.07345226965825283,0.9265477303417472]|1.0       |\n",
      "|[0.0,0.0,1.0]|1    |[5657.0,71359.0]|[0.07345226965825283,0.9265477303417472]|1.0       |\n",
      "+-------------+-----+----------------+----------------------------------------+----------+\n",
      "only showing top 5 rows\n",
      "\n"
     ]
    }
   ],
   "source": [
    "# Defining the decision tree classifier model and fit the model on the training data\n",
    "clf = DecisionTreeClassifier(featuresCol='features', labelCol='label')\n",
    "clf = clf.fit(train_df)\n",
    "\n",
    "pre = clf.transform(test_df)\n",
    "pre.show(5, 0)"
   ]
  },
  {
   "attachments": {},
   "cell_type": "markdown",
   "metadata": {},
   "source": [
    "#### Por fim testamos a precisão deste modelo."
   ]
  },
  {
   "cell_type": "code",
   "execution_count": 26,
   "metadata": {},
   "outputs": [
    {
     "name": "stdout",
     "output_type": "stream",
     "text": [
      "Accuracy:  0.8907698785576342\n"
     ]
    }
   ],
   "source": [
    "eval = MulticlassClassificationEvaluator(predictionCol=\"prediction\")\n",
    "accur = eval.evaluate(pre)\n",
    " \n",
    "print(\"Accuracy: \", accur)"
   ]
  }
 ],
 "metadata": {
  "kernelspec": {
   "display_name": "Python 3",
   "language": "python",
   "name": "python3"
  },
  "language_info": {
   "codemirror_mode": {
    "name": "ipython",
    "version": 3
   },
   "file_extension": ".py",
   "mimetype": "text/x-python",
   "name": "python",
   "nbconvert_exporter": "python",
   "pygments_lexer": "ipython3",
   "version": "3.10.9"
  },
  "orig_nbformat": 4,
  "vscode": {
   "interpreter": {
    "hash": "cf2957a4409907a9000a0c8980b6ab50678212d7d6225e5a1f0bdbca240746e7"
   }
  }
 },
 "nbformat": 4,
 "nbformat_minor": 2
}
